{
 "cells": [
  {
   "cell_type": "markdown",
   "metadata": {},
   "source": [
    "# Libraries"
   ]
  },
  {
   "cell_type": "code",
   "execution_count": 1,
   "metadata": {},
   "outputs": [],
   "source": [
    "import os\n",
    "import sys\n",
    "import warnings\n",
    "import pandas as pd\n",
    "from lib.places365 import predict\n",
    "\n",
    "from sklearn.feature_extraction.text import TfidfVectorizer\n",
    "import numpy as np\n",
    "from sklearn.ensemble import RandomForestClassifier, ExtraTreesClassifier, GradientBoostingClassifier, AdaBoostClassifier\n",
    "from sklearn.model_selection import KFold\n",
    "from sklearn.feature_selection import mutual_info_classif\n",
    "from sklearn.neural_network import MLPClassifier\n",
    "from sklearn.metrics import accuracy_score, classification_report\n",
    "from sklearn.svm import SVC\n",
    "\n",
    "IMAGES_DIR = \"./images\"\n",
    "NO_OF_CHARS = 10\n",
    " \n",
    "# Ignore warnings\n",
    "warnings.filterwarnings(\"ignore\")\n",
    "\n",
    "models = {\n",
    "  'Random Forest': RandomForestClassifier(n_estimators=100, random_state=0),\n",
    "  'Extra Trees': ExtraTreesClassifier(n_estimators=100, random_state=0),\n",
    "  'Gradient Boosting': GradientBoostingClassifier(n_estimators=100, random_state=0),\n",
    "  'AdaBoost': AdaBoostClassifier(n_estimators=100, random_state=0),\n",
    "  'SVM': SVC(kernel='rbf', C=1, random_state=0),\n",
    "  'MLPClassifer': MLPClassifier(hidden_layer_sizes=(64, 32),max_iter=1000, random_state=0)\n",
    "}"
   ]
  },
  {
   "cell_type": "markdown",
   "metadata": {},
   "source": [
    "# Get Descriptors"
   ]
  },
  {
   "cell_type": "code",
   "execution_count": 2,
   "metadata": {},
   "outputs": [
    {
     "name": "stdout",
     "output_type": "stream",
     "text": [
      "Class: mountain\n",
      "Image: 538/538\n",
      "Class: beach\n",
      "Image: 538/538\n"
     ]
    }
   ],
   "source": [
    "df = pd.DataFrame(columns=['image', 'description', 'class'])\n",
    "\n",
    "import time\n",
    "documents = []\n",
    "\n",
    "for _class in os.listdir(IMAGES_DIR):\n",
    "  print(\"Class:\", _class)\n",
    "  total = len(os.listdir(os.path.join(IMAGES_DIR, _class)))\n",
    "  for i, img in enumerate(os.listdir(os.path.join(IMAGES_DIR, _class))):\n",
    "    # Get prediction \n",
    "    prediction = predict(os.path.join(IMAGES_DIR, _class, img), NO_OF_CHARS)\n",
    "    descriptor = list(prediction.keys())\n",
    "\n",
    "    documents.append(\" \".join(descriptor))\n",
    "\n",
    "    df.loc[len(df.index)] = [os.path.join(IMAGES_DIR, _class, img), descriptor, _class]\n",
    "    sys.stdout.write(f\"\\rImage: {i + 1}/{total}\")\n",
    "    sys.stdout.flush()\n",
    "  print()"
   ]
  },
  {
   "cell_type": "markdown",
   "metadata": {},
   "source": [
    "# Create bag of words w/ TF-IDF"
   ]
  },
  {
   "cell_type": "code",
   "execution_count": 3,
   "metadata": {},
   "outputs": [],
   "source": [
    "vectorizer = TfidfVectorizer()\n",
    "\n",
    "docs = vectorizer.fit_transform(documents)\n",
    "\n",
    "columns = ['image', 'class'] + [f'feature_{i}' for i in range(docs.shape[1])]\n",
    "\n",
    "_df = pd.DataFrame(columns=columns)\n",
    "\n",
    "for i, row in df.iterrows():\n",
    "  description = [\" \".join(row['description'])]\n",
    "  vector = list(vectorizer.transform(description).toarray()[0])\n",
    "\n",
    "  _df.loc[len(_df.index)] = [row['image'], row['class']] + vector"
   ]
  },
  {
   "cell_type": "markdown",
   "metadata": {},
   "source": [
    "# Classify"
   ]
  },
  {
   "cell_type": "code",
   "execution_count": 4,
   "metadata": {},
   "outputs": [],
   "source": [
    "_df = _df.drop('image', axis=1)\n",
    "X = _df.drop(\"class\", axis=1)\n",
    "y = _df[\"class\"]"
   ]
  },
  {
   "cell_type": "code",
   "execution_count": null,
   "metadata": {},
   "outputs": [
    {
     "name": "stdout",
     "output_type": "stream",
     "text": [
      "Random Forest: 0.9730577088716623\n",
      "Extra Trees: 0.9721274763135227\n",
      "Gradient Boosting: 0.9674720068906115\n",
      "AdaBoost: 0.9674849267872524\n",
      "SVM: 0.9749138673557278\n",
      "MLPClassifer: 0.9721274763135229\n"
     ]
    }
   ],
   "source": [
    "# Split our data in sets of training and testing \n",
    "kf = KFold(n_splits=5, shuffle=True, random_state=42)\n",
    "dict_model = {}\n",
    "\n",
    "for name, model in models.items():\n",
    "  accuracies = []\n",
    "  for train_index, test_index in kf.split(X):\n",
    "    X_train, X_test = X.iloc[train_index], X.iloc[test_index]\n",
    "    y_train, y_test = y.iloc[train_index], y.iloc[test_index]\n",
    "\n",
    "    model.fit(X_train, y_train)\n",
    "    y_pred = model.predict(X_test)\n",
    "    dict_model[name] = dict_model.get(name,[y_test, y_pred])\n",
    "    \n",
    "    accuracies.append(accuracy_score(y_test, y_pred))\n",
    "\n",
    "  print(f\"{name}:\", np.mean(accuracies))"
   ]
  },
  {
   "cell_type": "markdown",
   "metadata": {},
   "source": [
    "# Mutual Info"
   ]
  },
  {
   "cell_type": "code",
   "execution_count": 6,
   "metadata": {},
   "outputs": [
    {
     "name": "stdout",
     "output_type": "stream",
     "text": [
      "La mejor feature para clasificar es: coast\n"
     ]
    }
   ],
   "source": [
    "mi = mutual_info_classif(docs, y)\n",
    "feature_names = vectorizer.get_feature_names_out()\n",
    "\n",
    "print(\"La mejor feature para clasificar es:\", feature_names[np.argmax(mi)])"
   ]
  },
  {
   "cell_type": "markdown",
   "metadata": {},
   "source": [
    "# Classification Report for Models"
   ]
  },
  {
   "cell_type": "code",
   "execution_count": null,
   "metadata": {},
   "outputs": [
    {
     "name": "stdout",
     "output_type": "stream",
     "text": [
      "Classification report for Random Forest:\n",
      "              precision    recall  f1-score   support\n",
      "\n",
      "       beach       0.98      0.94      0.96       108\n",
      "    mountain       0.95      0.98      0.96       108\n",
      "\n",
      "    accuracy                           0.96       216\n",
      "   macro avg       0.96      0.96      0.96       216\n",
      "weighted avg       0.96      0.96      0.96       216\n",
      "\n",
      "Classification report for Extra Trees:\n",
      "              precision    recall  f1-score   support\n",
      "\n",
      "       beach       0.98      0.94      0.96       108\n",
      "    mountain       0.95      0.98      0.96       108\n",
      "\n",
      "    accuracy                           0.96       216\n",
      "   macro avg       0.96      0.96      0.96       216\n",
      "weighted avg       0.96      0.96      0.96       216\n",
      "\n",
      "Classification report for Gradient Boosting:\n",
      "              precision    recall  f1-score   support\n",
      "\n",
      "       beach       0.98      0.95      0.97       108\n",
      "    mountain       0.95      0.98      0.97       108\n",
      "\n",
      "    accuracy                           0.97       216\n",
      "   macro avg       0.97      0.97      0.97       216\n",
      "weighted avg       0.97      0.97      0.97       216\n",
      "\n",
      "Classification report for AdaBoost:\n",
      "              precision    recall  f1-score   support\n",
      "\n",
      "       beach       0.96      0.94      0.95       108\n",
      "    mountain       0.95      0.96      0.95       108\n",
      "\n",
      "    accuracy                           0.95       216\n",
      "   macro avg       0.95      0.95      0.95       216\n",
      "weighted avg       0.95      0.95      0.95       216\n",
      "\n",
      "Classification report for SVM:\n",
      "              precision    recall  f1-score   support\n",
      "\n",
      "       beach       0.99      0.94      0.97       108\n",
      "    mountain       0.95      0.99      0.97       108\n",
      "\n",
      "    accuracy                           0.97       216\n",
      "   macro avg       0.97      0.97      0.97       216\n",
      "weighted avg       0.97      0.97      0.97       216\n",
      "\n",
      "Classification report for MLPClassifer:\n",
      "              precision    recall  f1-score   support\n",
      "\n",
      "       beach       0.99      0.94      0.96       108\n",
      "    mountain       0.94      0.99      0.96       108\n",
      "\n",
      "    accuracy                           0.96       216\n",
      "   macro avg       0.96      0.96      0.96       216\n",
      "weighted avg       0.96      0.96      0.96       216\n",
      "\n"
     ]
    }
   ],
   "source": [
    "for model in dict_model:\n",
    "    print(f'Classification report for {model}:')\n",
    "    y_test, y_pred = dict_model[model]\n",
    "    class_report = classification_report(y_test, y_pred)\n",
    "    print(class_report)\n",
    "    "
   ]
  }
 ],
 "metadata": {
  "kernelspec": {
   "display_name": "python-3.11-virtualenv",
   "language": "python",
   "name": "python3"
  },
  "language_info": {
   "codemirror_mode": {
    "name": "ipython",
    "version": 3
   },
   "file_extension": ".py",
   "mimetype": "text/x-python",
   "name": "python",
   "nbconvert_exporter": "python",
   "pygments_lexer": "ipython3",
   "version": "3.13.3"
  }
 },
 "nbformat": 4,
 "nbformat_minor": 2
}
